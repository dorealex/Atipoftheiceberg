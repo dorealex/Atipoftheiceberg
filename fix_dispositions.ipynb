{
  "cells": [
    {
      "metadata": {
        "trusted": true
      },
      "cell_type": "code",
      "source": "import pandas as pd\nimport random\nrandom.seed(101)",
      "execution_count": 1,
      "outputs": []
    },
    {
      "metadata": {
        "trusted": true
      },
      "cell_type": "code",
      "source": "df = pd.read_csv(\"https://open.canada.ca/data/dataset/0797e893-751e-4695-8229-a5066e4fe43c/resource/19383ca2-b01a-487d-88f7-e1ffbc7d39c2/download/ati.csv\")\ndispos = df['disposition']",
      "execution_count": 2,
      "outputs": []
    },
    {
      "metadata": {
        "trusted": true
      },
      "cell_type": "code",
      "source": "#let's try to fix the data by using a classifier\nprint(\"There are \"+str(len(dispos.unique()))+\" unique dispositions\")\ndispos.sample(5)",
      "execution_count": 3,
      "outputs": [
        {
          "output_type": "stream",
          "text": "There are 609 unique dispositions\n",
          "name": "stdout"
        },
        {
          "output_type": "execute_result",
          "execution_count": 3,
          "data": {
            "text/plain": "25849                                  All disclosed\n9264                               Disclosed in part\n373                                Disclosed in Part\n5707          No Record exist / Aucun enregistrement\n14870    Disclosed in part / Communication partielle\nName: disposition, dtype: object"
          },
          "metadata": {}
        }
      ]
    },
    {
      "metadata": {
        "trusted": true
      },
      "cell_type": "code",
      "source": "#we can do some cleaning\ndef cleaner(text):\n    text = str(text)\n    text = text.lower()\n    text = text.split(\"/\")[0]\n    text = text.split(\"\\n\")[0]\n    text = text.split(\"\\\\\")[0]\n    text = text.split(\"\\t\")[0]\n    text = text.strip()\n    #text = translate_to_en(text)\n    #text = translator.translate(text)\n    return str(text)\n\ndef translate_to_en(blob): #finds the blob and translates it to english if it isn't already. \n    #Google translate will not let us do many of these in a row.\n    if type(blob) != 'textblob.blob.TextBlob':\n            blob = TextBlob(blob)\n    if (blob.detect_language() != 'en'):\n        return blob.translate(to='en')\n    else:\n        return blob\n",
      "execution_count": 4,
      "outputs": []
    },
    {
      "metadata": {
        "trusted": true
      },
      "cell_type": "code",
      "source": "dispos = pd.DataFrame(dispos, columns=['disposition'])\ndispos['disposition_clean'] = dispos['disposition'].apply(lambda row: cleaner(row))\n#unique_df['disposition_clean'] = unique_df['disposition_clean'].apply(lambda row: translate_to_en(row)) # can't do this, google translate is rate limiting.\nunique = dispos.disposition_clean.unique()\nprint(\"There are \"+str(len(unique))+\" unique responses in the disposition column, after cleaning\")",
      "execution_count": 5,
      "outputs": [
        {
          "output_type": "stream",
          "text": "There are 181 unique responses in the disposition column, after cleaning\n",
          "name": "stdout"
        }
      ]
    },
    {
      "metadata": {
        "trusted": true
      },
      "cell_type": "code",
      "source": "with open('sample_dispo.txt', 'w') as f: #save the dispositions in a file\n    for item in unique:\n        f.write(\"%s\\n\" % item)",
      "execution_count": 6,
      "outputs": []
    },
    {
      "metadata": {
        "trusted": true
      },
      "cell_type": "code",
      "source": "#manually labelled the dispositions and read back in\nmanual = pd.read_csv(\"dispo_manual.csv\")",
      "execution_count": 7,
      "outputs": []
    },
    {
      "metadata": {
        "trusted": true
      },
      "cell_type": "code",
      "source": "manual.dropna(inplace=True)",
      "execution_count": 8,
      "outputs": []
    },
    {
      "metadata": {
        "trusted": true
      },
      "cell_type": "code",
      "source": "df['clean_dispo'] = df['disposition'].apply(lambda row: cleaner(row))",
      "execution_count": 9,
      "outputs": []
    },
    {
      "metadata": {
        "trusted": true
      },
      "cell_type": "code",
      "source": "sm = df[['year','month','summary_en', 'disposition','pages','owner_org','clean_dispo']]",
      "execution_count": 10,
      "outputs": []
    },
    {
      "metadata": {
        "trusted": true
      },
      "cell_type": "code",
      "source": "sm.head()",
      "execution_count": 11,
      "outputs": [
        {
          "output_type": "execute_result",
          "execution_count": 11,
          "data": {
            "text/html": "<div>\n<style scoped>\n    .dataframe tbody tr th:only-of-type {\n        vertical-align: middle;\n    }\n\n    .dataframe tbody tr th {\n        vertical-align: top;\n    }\n\n    .dataframe thead th {\n        text-align: right;\n    }\n</style>\n<table border=\"1\" class=\"dataframe\">\n  <thead>\n    <tr style=\"text-align: right;\">\n      <th></th>\n      <th>year</th>\n      <th>month</th>\n      <th>summary_en</th>\n      <th>disposition</th>\n      <th>pages</th>\n      <th>owner_org</th>\n      <th>clean_dispo</th>\n    </tr>\n  </thead>\n  <tbody>\n    <tr>\n      <th>0</th>\n      <td>2019</td>\n      <td>7</td>\n      <td>A copy of the following briefing notes: 248350...</td>\n      <td>Disclosed in part/\\r\\nCommunication partielle</td>\n      <td>21.0</td>\n      <td>aafc-aac</td>\n      <td>disclosed in part</td>\n    </tr>\n    <tr>\n      <th>1</th>\n      <td>2019</td>\n      <td>7</td>\n      <td>A copy of the following briefing notes: 248665...</td>\n      <td>Disclosed in part/\\r\\nCommunication partielle</td>\n      <td>29.0</td>\n      <td>aafc-aac</td>\n      <td>disclosed in part</td>\n    </tr>\n    <tr>\n      <th>2</th>\n      <td>2019</td>\n      <td>7</td>\n      <td>A copy of the following briefing notes: 248710...</td>\n      <td>Disclosed in part/\\r\\nCommunication partielle</td>\n      <td>15.0</td>\n      <td>aafc-aac</td>\n      <td>disclosed in part</td>\n    </tr>\n    <tr>\n      <th>3</th>\n      <td>2019</td>\n      <td>8</td>\n      <td>A copy of the following briefing notes: 247950...</td>\n      <td>Disclosed in part/\\r\\nCommunication partielle</td>\n      <td>168.0</td>\n      <td>aafc-aac</td>\n      <td>disclosed in part</td>\n    </tr>\n    <tr>\n      <th>4</th>\n      <td>2019</td>\n      <td>8</td>\n      <td>A copy of the following briefing notes: 247938...</td>\n      <td>Disclosed in part/\\r\\nCommunication partielle</td>\n      <td>306.0</td>\n      <td>aafc-aac</td>\n      <td>disclosed in part</td>\n    </tr>\n  </tbody>\n</table>\n</div>",
            "text/plain": "   year  month                                         summary_en  \\\n0  2019      7  A copy of the following briefing notes: 248350...   \n1  2019      7  A copy of the following briefing notes: 248665...   \n2  2019      7  A copy of the following briefing notes: 248710...   \n3  2019      8  A copy of the following briefing notes: 247950...   \n4  2019      8  A copy of the following briefing notes: 247938...   \n\n                                     disposition  pages owner_org  \\\n0  Disclosed in part/\\r\\nCommunication partielle   21.0  aafc-aac   \n1  Disclosed in part/\\r\\nCommunication partielle   29.0  aafc-aac   \n2  Disclosed in part/\\r\\nCommunication partielle   15.0  aafc-aac   \n3  Disclosed in part/\\r\\nCommunication partielle  168.0  aafc-aac   \n4  Disclosed in part/\\r\\nCommunication partielle  306.0  aafc-aac   \n\n         clean_dispo  \n0  disclosed in part  \n1  disclosed in part  \n2  disclosed in part  \n3  disclosed in part  \n4  disclosed in part  "
          },
          "metadata": {}
        }
      ]
    },
    {
      "metadata": {
        "trusted": true
      },
      "cell_type": "code",
      "source": "merge = pd.merge(sm, manual, left_on = 'clean_dispo',right_on = 'disposition',)",
      "execution_count": 12,
      "outputs": []
    },
    {
      "metadata": {
        "trusted": true
      },
      "cell_type": "code",
      "source": "merge.code.unique()",
      "execution_count": 13,
      "outputs": [
        {
          "output_type": "execute_result",
          "execution_count": 13,
          "data": {
            "text/plain": "array(['disclosed in part', 'all disclosed', 'no records exist',\n       'all excluded', 'all exempted', 'neither confirmed nor denied',\n       'request abandoned', 'error', 'request transferred'], dtype=object)"
          },
          "metadata": {}
        }
      ]
    },
    {
      "metadata": {
        "trusted": true
      },
      "cell_type": "code",
      "source": "merge.shape",
      "execution_count": 14,
      "outputs": [
        {
          "output_type": "execute_result",
          "execution_count": 14,
          "data": {
            "text/plain": "(29663, 9)"
          },
          "metadata": {}
        }
      ]
    },
    {
      "metadata": {
        "trusted": true
      },
      "cell_type": "code",
      "source": "merge.to_csv(\"../data/clean.csv\", index = False)",
      "execution_count": 15,
      "outputs": []
    },
    {
      "metadata": {
        "trusted": true
      },
      "cell_type": "code",
      "source": "#Questions\n#Can we predict the # of pages?\n#can we predict the result of the request(disposition)?\n",
      "execution_count": null,
      "outputs": []
    },
    {
      "metadata": {
        "trusted": true
      },
      "cell_type": "code",
      "source": "",
      "execution_count": null,
      "outputs": []
    }
  ],
  "metadata": {
    "kernelspec": {
      "name": "python36",
      "display_name": "Python 3.6",
      "language": "python"
    },
    "language_info": {
      "mimetype": "text/x-python",
      "nbconvert_exporter": "python",
      "name": "python",
      "pygments_lexer": "ipython3",
      "version": "3.6.6",
      "file_extension": ".py",
      "codemirror_mode": {
        "version": 3,
        "name": "ipython"
      }
    }
  },
  "nbformat": 4,
  "nbformat_minor": 2
}